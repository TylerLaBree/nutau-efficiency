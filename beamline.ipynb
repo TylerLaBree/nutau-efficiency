{
 "cells": [
  {
   "cell_type": "code",
   "execution_count": 1,
   "id": "94e258ef-f948-497d-a965-b62320e1a7e5",
   "metadata": {},
   "outputs": [
    {
     "name": "stdout",
     "output_type": "stream",
     "text": [
      "Welcome to JupyROOT 6.26/07\n",
      "DUNE plot style enabled\n"
     ]
    }
   ],
   "source": [
    "import event_loop as loop\n",
    "import attributes as att\n",
    "import vector_math as v\n",
    "import matplotlib.pyplot as plt\n",
    "import numpy as np\n",
    "import itertools as it\n",
    "import functools as ft\n",
    "import dunestyle.matplotlib as dunestyle\n",
    "\n",
    "plt.rcParams[\"font.sans-serif\"] = [\"Inter\", \"Nimbus Sans\", \"Cantarell\"]"
   ]
  },
  {
   "cell_type": "code",
   "execution_count": 2,
   "id": "99080a60-02eb-44d4-974b-ac24d5153fd9",
   "metadata": {},
   "outputs": [],
   "source": [
    "path_to_data = \"/lstr/sahara/dune/tlabree/nutau-data/\"\n",
    "filename = path_to_data + \"prodgenie_nutau_dune10kt_1x2x6_1000evts_gen_g4_detsim_reco_001.root\"\n",
    "num_events = 1000"
   ]
  },
  {
   "cell_type": "code",
   "execution_count": 3,
   "id": "152ab5f2-6a79-4401-95ef-090409f744b4",
   "metadata": {},
   "outputs": [
    {
     "name": "stdout",
     "output_type": "stream",
     "text": [
      "[-7.818601810437586e-08, 0.10082778355381398, 0.9949038938776671]\n",
      "Successfully opened file /lstr/sahara/dune/tlabree/nutau-data/prodgenie_nutau_dune10kt_1x2x6_1000evts_gen_g4_detsim_reco_001.root\n",
      "Closing file, read 34019407 bytes in 952 transactions\n"
     ]
    },
    {
     "name": "stderr",
     "output_type": "stream",
     "text": [
      "Warning in <TClass::Init>: no dictionary for class sim::IDE is available\n"
     ]
    }
   ],
   "source": [
    "neutrino_directions = map(v.normalize, loop.read_attribute(filename, att.neutrino_direction, num_events))\n",
    "beamline = [x/num_events for x in ft.reduce(v.add_vectors, list(neutrino_directions), [0, 0, 0])]\n",
    "print(beamline)"
   ]
  }
 ],
 "metadata": {
  "kernelspec": {
   "display_name": "Python 3 (ipykernel)",
   "language": "python",
   "name": "python3"
  },
  "language_info": {
   "codemirror_mode": {
    "name": "ipython",
    "version": 3
   },
   "file_extension": ".py",
   "mimetype": "text/x-python",
   "name": "python",
   "nbconvert_exporter": "python",
   "pygments_lexer": "ipython3",
   "version": "3.9.13"
  }
 },
 "nbformat": 4,
 "nbformat_minor": 5
}
