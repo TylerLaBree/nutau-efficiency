{
 "cells": [
  {
   "cell_type": "code",
   "execution_count": null,
   "id": "945225a0-f7cf-42cd-ab85-033d743b232a",
   "metadata": {},
   "outputs": [],
   "source": [
    "import event_loop as loop # This takes awhile b/c it imports root 🤢\n",
    "import attributes as att\n",
    "import matplotlib.pyplot as plt\n",
    "import numpy as np\n",
    "import itertools as it\n",
    "import dunestyle.matplotlib as dunestyle\n",
    "from cycler import cycler\n",
    "\n",
    "plt.rcParams[\"font.sans-serif\"] = [\"Inter\", \"Nimbus Sans\", \"Cantarell\"]\n",
    "plt.rcParams[\"axes.prop_cycle\"] = cycler('color', ['#009E73', '#0072B2', '#D55E00'])\n",
    "#plt.rcParams[\"axes.prop_cycle\"] = cycler('color', ['#D55E00', '#56B4E9', '#E69F00', '#009E73', '#CC79A7', '#0072B2', '#F0E442',])\n",
    "#plt.rcParams[\"axes.prop_cycle\"] = cycler('color', ['#6AC8AE', '#519FE9', '#F78364'])"
   ]
  },
  {
   "cell_type": "code",
   "execution_count": null,
   "id": "0f5ccd7b-2e68-4b3b-b034-56e406f19a7e",
   "metadata": {},
   "outputs": [],
   "source": [
    "path_to_data = \"/lstr/sahara/dune/tlabree/nutau-data/\"\n",
    "e_filename = path_to_data + \"prodgenie_nue_dune10kt_1x2x6_1000evts_gen_g4_detsim_reco_401.root\"\n",
    "mu_filename = path_to_data + \"prodgenie_nu_dune10kt_1x2x6_1000evts_gen_g4_detsim_reco_240.root\"\n",
    "tau_filename = path_to_data + \"prodgenie_nutau_dune10kt_1x2x6_1000evts_gen_g4_detsim_reco_001.root\"\n",
    "num_events = 1000"
   ]
  },
  {
   "cell_type": "markdown",
   "id": "c2ff5ed0-2061-4bc1-9571-12ee839a5dda",
   "metadata": {},
   "source": [
    "# Number of Leptons ($N_\\text{lep}$)"
   ]
  },
  {
   "cell_type": "code",
   "execution_count": null,
   "id": "7f631765-ef77-4e0c-ab6a-3c30656f49b4",
   "metadata": {},
   "outputs": [],
   "source": [
    "num_lep_e = loop.read_attribute(e_filename, att.lepton_count, num_events)\n",
    "num_lep_mu = loop.read_attribute(mu_filename, att.lepton_count, num_events)\n",
    "num_lep_tau = loop.read_attribute(tau_filename, att.lepton_count, num_events)"
   ]
  },
  {
   "cell_type": "code",
   "execution_count": null,
   "id": "2dffedae-581b-445d-9ea1-299ff6148b35",
   "metadata": {},
   "outputs": [],
   "source": [
    "fig, ax = plt.subplots()\n",
    "bins = np.linspace(0, 4, 5)\n",
    "\n",
    "ax.axvspan(1, 4, facecolor=\"white\", edgecolor=\"gray\", hatch=\"/\", label=\"cut\")\n",
    "ax.hist(num_lep_e, bins=bins, density=True, histtype=\"step\", label=r\"$e$, $\\mu$\", color=\"#0072B2\")\n",
    "ax.hist(num_lep_mu, bins=bins, density=True, histtype=\"step\", color=\"#0072B2\")\n",
    "ax.hist(num_lep_tau, bins=bins, density=True, histtype=\"step\", label=r\"$\\tau$\", color=\"#D55E00\")\n",
    "ax.set_xlim(0, 4)\n",
    "ax.set_xlabel(r\"Number of $e$, $\\mu$ ($N_\\text{lep}$)\")\n",
    "ax.set_ylabel(r\"Normalized Count ($\\frac{1}{N} \\frac{\\text{d}N}{\\text{d}N_\\text{lep}}$)\")\n",
    "ax.set_yscale(\"log\")\n",
    "ax.legend()\n",
    "plt.show()"
   ]
  },
  {
   "cell_type": "markdown",
   "id": "8f6b4b77-8b52-46ad-ace7-eb4ffeb34b40",
   "metadata": {},
   "source": [
    "# Number of Pions ($N_{\\pi^-}$)"
   ]
  },
  {
   "cell_type": "code",
   "execution_count": null,
   "id": "e4929161-8a12-476f-8f10-5c82a824304b",
   "metadata": {},
   "outputs": [],
   "source": [
    "num_pi_e = loop.read_attribute(e_filename, att.pion_count, num_events)\n",
    "num_pi_mu = loop.read_attribute(mu_filename, att.pion_count, num_events)\n",
    "num_pi_tau = loop.read_attribute(tau_filename, att.pion_count, num_events)"
   ]
  },
  {
   "cell_type": "code",
   "execution_count": null,
   "id": "aaa2a8d8-cfd5-4a4b-9524-a447546d9ebb",
   "metadata": {},
   "outputs": [],
   "source": [
    "fig, ax = plt.subplots()\n",
    "bins = np.linspace(0, 7, 8)\n",
    "\n",
    "ax.axvspan(0, 1, facecolor=\"white\", edgecolor=\"gray\", hatch=\"/\", label=\"cut\")\n",
    "ax.hist(num_pi_e, bins=bins, density=True, histtype=\"step\", label=r\"$e$\")\n",
    "ax.hist(num_pi_mu, bins=bins, density=True, histtype=\"step\", label=r\"$\\mu$\")\n",
    "ax.hist(num_pi_tau, bins=bins, density=True, histtype=\"step\", label=r\"$\\tau$\")\n",
    "ax.set_xlim(0, 7)\n",
    "ax.set_xlabel(r\"Number of $\\pi^-$ ($N_{\\pi^-}$)\")\n",
    "ax.set_ylabel(r\"Normalized Count ($\\frac{1}{N} \\frac{\\text{d}N}{\\text{d}N_{\\pi^-}}$)\")\n",
    "ax.set_yscale(\"log\")\n",
    "ax.legend()\n",
    "plt.show()"
   ]
  },
  {
   "cell_type": "markdown",
   "id": "f601d9a1-5245-40ed-9464-8ef0fa78e5d1",
   "metadata": {},
   "source": [
    "# Cut Calculation\n",
    "\n",
    "Machado makes the previous two cuts before moving on to the next steps."
   ]
  },
  {
   "cell_type": "code",
   "execution_count": null,
   "id": "d909affb-8436-43f4-aee4-80003d5fbd02",
   "metadata": {},
   "outputs": [],
   "source": [
    "cut_e = loop.read_attribute(e_filename, att.keep_event, num_events)\n",
    "cut_mu = loop.read_attribute(mu_filename, att.keep_event, num_events)\n",
    "cut_tau = loop.read_attribute(tau_filename, att.keep_event, num_events)"
   ]
  },
  {
   "cell_type": "code",
   "execution_count": null,
   "id": "b0dc6146-a4a1-485d-bf9a-1e478878b79b",
   "metadata": {},
   "outputs": [],
   "source": [
    "print(\"Number of nu_e:\", sum(map(int, cut_e)))\n",
    "print(\"Number of nu_mu:\", sum(map(int, cut_mu)))\n",
    "print(\"Number of nu_tau:\", sum(map(int, cut_tau)))"
   ]
  },
  {
   "cell_type": "markdown",
   "id": "072bb038-c6dd-4913-b8d2-5339f5f54caa",
   "metadata": {},
   "source": [
    "## Remaining Events After Cut\n",
    "\n",
    "- $\\frac{113}{1,000}$ remaining $\\nu_e$\n",
    "- $\\frac{105}{1,000}$ remaining $\\nu_\\mu$\n",
    "- $\\frac{395}{1,000}$ remaining $\\nu_\\tau$"
   ]
  },
  {
   "cell_type": "markdown",
   "id": "59380c59-dfc0-4a46-8058-8b473e6141cc",
   "metadata": {},
   "source": [
    "# Energy of the Leading Pion ($\\pi^-_\\text{lead}$)"
   ]
  },
  {
   "cell_type": "code",
   "execution_count": null,
   "id": "683b110b-f5b1-4f08-ad8a-621d6b9c6f54",
   "metadata": {},
   "outputs": [],
   "source": [
    "%%capture\n",
    "e_pi_e = loop.read_attribute(e_filename, att.leading_pion_energy, num_events);\n",
    "e_pi_mu = loop.read_attribute(mu_filename, att.leading_pion_energy, num_events);\n",
    "e_pi_tau = loop.read_attribute(tau_filename, att.leading_pion_energy, num_events);"
   ]
  },
  {
   "cell_type": "code",
   "execution_count": null,
   "id": "0215ebae-9798-4ddf-926b-3ba61ea18993",
   "metadata": {},
   "outputs": [],
   "source": [
    "fig, ax = plt.subplots()\n",
    "#bins = np.logspace(np.log10(0.1),np.log10(5),11)\n",
    "bins = np.linspace(0, 5, 41)\n",
    "\n",
    "ax.axvspan(0, 0.25, facecolor=\"white\", edgecolor=\"gray\", hatch=\"/\", label=\"cut at 250 MeV?\")\n",
    "ax.hist(list(it.compress(e_pi_e, cut_e)), bins=bins, density=True, histtype=\"step\", label=r\"$e$\")\n",
    "ax.hist(list(it.compress(e_pi_mu, cut_mu)), bins=bins, density=True, histtype=\"step\", label=r\"$\\mu$\")\n",
    "ax.hist(list(it.compress(e_pi_tau, cut_tau)), bins=bins, density=True, histtype=\"step\", label=r\"$\\tau$\")\n",
    "ax.set_xlim(0, 5)\n",
    "ax.set_xlabel(r\"Energy of Leading Pion ($\\pi^-_\\text{lead}$) [GeV]\")\n",
    "ax.set_ylabel(r\"Normalized Count ($\\frac{1}{N} \\frac{\\text{d}N}{\\text{d}\\pi^-_\\text{lead}}$)\")\n",
    "ax.legend(title=\"Includes cut\")\n",
    "plt.show()"
   ]
  },
  {
   "cell_type": "markdown",
   "id": "8dec70c7-f8c9-437a-932d-da3d32346ccb",
   "metadata": {},
   "source": [
    "# Energy Sum of Other Particles ($\\sum E_\\text{other}$)"
   ]
  },
  {
   "cell_type": "code",
   "execution_count": null,
   "id": "ca86c909-c610-40d3-8de0-f40d236c0957",
   "metadata": {},
   "outputs": [],
   "source": [
    "e_other_e = loop.read_attribute(e_filename, att.other_particle_energy_sum, num_events)\n",
    "e_other_mu = loop.read_attribute(mu_filename, att.other_particle_energy_sum, num_events)\n",
    "e_other_tau = loop.read_attribute(tau_filename, att.other_particle_energy_sum, num_events)"
   ]
  },
  {
   "cell_type": "code",
   "execution_count": null,
   "id": "488c0018-bb87-4d9b-8aca-9d517d009112",
   "metadata": {
    "editable": true,
    "slideshow": {
     "slide_type": ""
    },
    "tags": []
   },
   "outputs": [],
   "source": [
    "fig, ax = plt.subplots()\n",
    "bins = np.logspace(np.log10(0.1),np.log10(10),11)\n",
    "\n",
    "ax.axvspan(0, 0.6, facecolor=\"white\", edgecolor=\"gray\", hatch=\"/\", label=\"cut at 600 MeV?\")\n",
    "ax.hist(list(it.compress(e_other_e, cut_e)), bins=bins, density=True, histtype=\"step\", label=r\"$e$\")\n",
    "ax.hist(list(it.compress(e_other_mu, cut_mu)), bins=bins, density=True, histtype=\"step\", label=r\"$\\mu$\")\n",
    "ax.hist(list(it.compress(e_other_tau, cut_tau)), bins=bins, density=True, histtype=\"step\", label=r\"$\\tau$\")\n",
    "ax.set_xscale(\"log\")\n",
    "ax.set_yscale(\"log\")\n",
    "ax.set_ylim(0.0005, 0.4)\n",
    "ax.set_xlim(0.1, 10)\n",
    "ax.set_xlabel(r\"Energy Sum of Other Particles ($\\sum E_\\text{other}$) [GeV]\")\n",
    "ax.set_ylabel(r\"Normalized Count ($\\frac{1}{N} \\frac{\\text{d}N}{\\text{d}\\sum E_\\text{other}}$)\")\n",
    "ax.legend(title=\"Includes cut\")\n",
    "plt.show()"
   ]
  },
  {
   "cell_type": "markdown",
   "id": "78670b88-2f4a-4bdd-aa7a-c478115f8c71",
   "metadata": {},
   "source": [
    "# Missing Transverse Momentum ($p_T^\\text{miss}$)"
   ]
  },
  {
   "cell_type": "code",
   "execution_count": null,
   "id": "cc136f2f-2d64-4e67-b69f-c32a376b0fcc",
   "metadata": {
    "editable": true,
    "slideshow": {
     "slide_type": ""
    },
    "tags": []
   },
   "outputs": [],
   "source": [
    "e_p_miss = loop.read_attribute(e_filename, att.missing_transverse_momentum, num_events)\n",
    "mu_p_miss = loop.read_attribute(mu_filename, att.missing_transverse_momentum, num_events)\n",
    "tau_p_miss = loop.read_attribute(tau_filename, att.missing_transverse_momentum, num_events)"
   ]
  },
  {
   "cell_type": "code",
   "execution_count": null,
   "id": "a6e7753e-e756-496d-9fb5-9010ddcad89b",
   "metadata": {
    "editable": true,
    "slideshow": {
     "slide_type": ""
    },
    "tags": []
   },
   "outputs": [],
   "source": [
    "fig, ax = plt.subplots()\n",
    "bins = np.linspace(0, 3, 21)\n",
    "\n",
    "ax.axvspan(1.0, 3.0, facecolor=\"white\", edgecolor=\"gray\", hatch=\"/\", label=\"cut at 1 GeV?\")\n",
    "ax.hist(list(it.compress(e_p_miss, cut_e)), bins=bins, density=True, histtype=\"step\", label=r\"$e$\")\n",
    "ax.hist(list(it.compress(mu_p_miss, cut_e)), bins=bins, density=True, histtype=\"step\", label=r\"$\\mu$\")\n",
    "ax.hist(list(it.compress(tau_p_miss, cut_e)), bins=bins, density=True, histtype=\"step\", label=r\"$\\tau$\")\n",
    "#ax.set_ylim(0, 0.175)\n",
    "ax.set_xlim(0, 3)\n",
    "ax.set_xlabel(r\"Missing Transverse Momentum ($p_T^\\text{miss}$) [GeV]\")\n",
    "ax.set_ylabel(r\"Normalized Count ($\\frac{1}{N} \\frac{\\text{d}N}{\\text{d}p_T^\\text{miss}}$)\")\n",
    "ax.legend(title=\"Includes cut\")\n",
    "plt.show()"
   ]
  },
  {
   "cell_type": "code",
   "execution_count": null,
   "id": "b9a5c9d1-64c3-426a-8220-c29d625be68a",
   "metadata": {
    "editable": true,
    "slideshow": {
     "slide_type": ""
    },
    "tags": []
   },
   "outputs": [],
   "source": []
  }
 ],
 "metadata": {
  "kernelspec": {
   "display_name": "Python 3 (ipykernel)",
   "language": "python",
   "name": "python3"
  },
  "language_info": {
   "codemirror_mode": {
    "name": "ipython",
    "version": 3
   },
   "file_extension": ".py",
   "mimetype": "text/x-python",
   "name": "python",
   "nbconvert_exporter": "python",
   "pygments_lexer": "ipython3",
   "version": "3.9.13"
  }
 },
 "nbformat": 4,
 "nbformat_minor": 5
}
