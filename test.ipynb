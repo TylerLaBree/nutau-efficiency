{
 "cells": [
  {
   "cell_type": "code",
   "execution_count": null,
   "id": "8274c499-30a7-4774-ad7d-52d23377f639",
   "metadata": {},
   "outputs": [],
   "source": [
    "import event_loop as loop\n",
    "import attributes as att"
   ]
  },
  {
   "cell_type": "code",
   "execution_count": null,
   "id": "6edd7c07-83b8-4e6b-a345-fca97da53110",
   "metadata": {},
   "outputs": [],
   "source": [
    "filename = \"/lstr/sahara/dune/tlabree/nutau-data/prodgenie_nutau_dune10kt_1x2x6_1000evts_gen_g4_detsim_reco_001.root\"\n",
    "\n",
    "test = loop.read_attribute(filename, att.num_leptons, 10)\n",
    "print(test)\n",
    "test = loop.read_attribute(filename, att.num_pions, 10)\n",
    "print(test)\n",
    "test = loop.read_attribute(filename, att.leading_pion_energies, 10)\n",
    "print(test)\n",
    "test = loop.read_attribute(filename, att.other_particle_energy_sum, 10)\n",
    "print(test)"
   ]
  },
  {
   "cell_type": "code",
   "execution_count": null,
   "id": "a1f85d68-6dd6-4838-a186-610013ef8fbe",
   "metadata": {},
   "outputs": [],
   "source": [
    "loop.dump_events(filename, 10)"
   ]
  }
 ],
 "metadata": {
  "kernelspec": {
   "display_name": "Python 3 (ipykernel)",
   "language": "python",
   "name": "python3"
  },
  "language_info": {
   "codemirror_mode": {
    "name": "ipython",
    "version": 3
   },
   "file_extension": ".py",
   "mimetype": "text/x-python",
   "name": "python",
   "nbconvert_exporter": "python",
   "pygments_lexer": "ipython3",
   "version": "3.9.13"
  }
 },
 "nbformat": 4,
 "nbformat_minor": 5
}
